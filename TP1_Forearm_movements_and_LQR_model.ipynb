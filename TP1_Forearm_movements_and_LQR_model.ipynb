{
  "nbformat": 4,
  "nbformat_minor": 0,
  "metadata": {
    "colab": {
      "provenance": [],
      "include_colab_link": true
    },
    "kernelspec": {
      "name": "python3",
      "display_name": "Python 3"
    },
    "language_info": {
      "name": "python"
    }
  },
  "cells": [
    {
      "cell_type": "markdown",
      "metadata": {
        "id": "view-in-github",
        "colab_type": "text"
      },
      "source": [
        "<a href=\"https://colab.research.google.com/github/marco-milanesi/lqr-ppo/blob/main/TP1_Forearm_movements_and_LQR_model.ipynb\" target=\"_parent\"><img src=\"https://colab.research.google.com/assets/colab-badge.svg\" alt=\"Open In Colab\"/></a>"
      ]
    },
    {
      "cell_type": "code",
      "execution_count": 8,
      "metadata": {
        "colab": {
          "base_uri": "https://localhost:8080/"
        },
        "id": "pFfJ0bK4S311",
        "outputId": "1bff2e09-2010-4ca6-bda7-ac1afb72a56f"
      },
      "outputs": [
        {
          "output_type": "stream",
          "name": "stdout",
          "text": [
            "--2022-12-03 11:25:35--  https://raw.githubusercontent.com/marco-milanesi/lqr-ppo/main/Dataset/two_movements.csv\n",
            "Resolving raw.githubusercontent.com (raw.githubusercontent.com)... 185.199.108.133, 185.199.109.133, 185.199.110.133, ...\n",
            "Connecting to raw.githubusercontent.com (raw.githubusercontent.com)|185.199.108.133|:443... connected.\n",
            "HTTP request sent, awaiting response... 200 OK\n",
            "Length: 10902 (11K) [text/plain]\n",
            "Saving to: ‘two_movements.csv’\n",
            "\n",
            "\rtwo_movements.csv     0%[                    ]       0  --.-KB/s               \rtwo_movements.csv   100%[===================>]  10.65K  --.-KB/s    in 0s      \n",
            "\n",
            "2022-12-03 11:25:35 (68.8 MB/s) - ‘two_movements.csv’ saved [10902/10902]\n",
            "\n"
          ]
        }
      ],
      "source": [
        "!wget https://raw.githubusercontent.com/marco-milanesi/lqr-ppo/main/Dataset/two_movements.csv"
      ]
    },
    {
      "cell_type": "code",
      "source": [
        "!wget https://github.com/marco-milanesi/lqr-ppo/blob/main/Dataset/extracted_data_extended"
      ],
      "metadata": {
        "colab": {
          "base_uri": "https://localhost:8080/"
        },
        "id": "YSwgGNz4uuAY",
        "outputId": "457d20df-6b9d-405f-c103-d90d8b906608"
      },
      "execution_count": 9,
      "outputs": [
        {
          "output_type": "stream",
          "name": "stdout",
          "text": [
            "--2022-12-03 11:25:40--  https://github.com/marco-milanesi/lqr-ppo/blob/main/Dataset/extracted_data_extended\n",
            "Resolving github.com (github.com)... 140.82.113.4\n",
            "Connecting to github.com (github.com)|140.82.113.4|:443... connected.\n",
            "HTTP request sent, awaiting response... 200 OK\n",
            "Length: unspecified [text/html]\n",
            "Saving to: ‘extracted_data_extended’\n",
            "\n",
            "\rextracted_data_exte     [<=>                 ]       0  --.-KB/s               \rextracted_data_exte     [ <=>                ] 135.95K  --.-KB/s    in 0.008s  \n",
            "\n",
            "2022-12-03 11:25:41 (16.9 MB/s) - ‘extracted_data_extended’ saved [139214]\n",
            "\n"
          ]
        }
      ]
    },
    {
      "cell_type": "markdown",
      "source": [
        "# 1. Visualizing and pre-processing the data"
      ],
      "metadata": {
        "id": "4QIwWG9Fq9pS"
      }
    },
    {
      "cell_type": "markdown",
      "source": [
        "## Task 1\n",
        "Open the file with any text editor to see how the file is formatted. Then, write a Python script to load movement data into a list."
      ],
      "metadata": {
        "id": "WbtlLN1KwbFP"
      }
    },
    {
      "cell_type": "code",
      "source": [
        "# the file is a csv file with ; as separator\n",
        "index = -1\n",
        "list_movement = []\n",
        "list_temp =[]\n",
        "time = []\n",
        "position = []\n",
        "substring = \"Movement\"\n",
        "header = '#'\n",
        "\n",
        "with open('two_movements.csv', \"r\") as _file :\n",
        "  for line in _file :\n",
        "    if header in line:\n",
        "      continue\n",
        "    if substring in line:\n",
        "        list_movement.append(list_temp)\n",
        "        list_temp = []\n",
        "    list_temp.append(line)\n",
        "\n",
        "list_movement = list_movement[1:]\n",
        "    "
      ],
      "metadata": {
        "id": "9bZtELaPV38m"
      },
      "execution_count": null,
      "outputs": []
    },
    {
      "cell_type": "code",
      "source": [
        "import pandas as pd\n",
        "\n",
        "df_list = []\n",
        "for j in range(0,len(list_movement)):\n",
        "  for i in list_movement[j]:\n",
        "    if substring in i:\n",
        "      continue\n",
        "    values = i.split (';')\n",
        "    time.append(float(values[0]))\n",
        "    position.append(float(values[1].strip(\"\\n\")))\n",
        "\n",
        "  # Create the data set\n",
        "  df=pd.DataFrame()\n",
        "  # Labels\n",
        "  df=pd.DataFrame(time,columns=['time'])\n",
        "  # Energy Features\n",
        "  df.insert(1,\"Movement\",position,True)\n",
        "  df_list.append(df)\n",
        "  time = []\n",
        "  position = []"
      ],
      "metadata": {
        "id": "MDBvF_LyY5FF"
      },
      "execution_count": null,
      "outputs": []
    },
    {
      "cell_type": "code",
      "source": [
        "df_list[0]"
      ],
      "metadata": {
        "colab": {
          "base_uri": "https://localhost:8080/",
          "height": 424
        },
        "id": "sM5pBluOk6EN",
        "outputId": "6342f886-77fa-46f0-8d90-f4a0f09ac5da"
      },
      "execution_count": null,
      "outputs": [
        {
          "output_type": "execute_result",
          "data": {
            "text/plain": [
              "       time  Movement\n",
              "0    2.3712    4153.0\n",
              "1    2.3873    4153.0\n",
              "2    2.3912    4155.0\n",
              "3    2.4072    4158.0\n",
              "4    2.4112    4175.0\n",
              "..      ...       ...\n",
              "373  6.3352   18977.0\n",
              "374  6.3392   18966.0\n",
              "375  6.3552   18925.0\n",
              "376  6.3592   18844.0\n",
              "377  6.3752   18793.0\n",
              "\n",
              "[378 rows x 2 columns]"
            ],
            "text/html": [
              "\n",
              "  <div id=\"df-c78a6d27-a7b6-47f7-bf6a-2ae38cb050cd\">\n",
              "    <div class=\"colab-df-container\">\n",
              "      <div>\n",
              "<style scoped>\n",
              "    .dataframe tbody tr th:only-of-type {\n",
              "        vertical-align: middle;\n",
              "    }\n",
              "\n",
              "    .dataframe tbody tr th {\n",
              "        vertical-align: top;\n",
              "    }\n",
              "\n",
              "    .dataframe thead th {\n",
              "        text-align: right;\n",
              "    }\n",
              "</style>\n",
              "<table border=\"1\" class=\"dataframe\">\n",
              "  <thead>\n",
              "    <tr style=\"text-align: right;\">\n",
              "      <th></th>\n",
              "      <th>time</th>\n",
              "      <th>Movement</th>\n",
              "    </tr>\n",
              "  </thead>\n",
              "  <tbody>\n",
              "    <tr>\n",
              "      <th>0</th>\n",
              "      <td>2.3712</td>\n",
              "      <td>4153.0</td>\n",
              "    </tr>\n",
              "    <tr>\n",
              "      <th>1</th>\n",
              "      <td>2.3873</td>\n",
              "      <td>4153.0</td>\n",
              "    </tr>\n",
              "    <tr>\n",
              "      <th>2</th>\n",
              "      <td>2.3912</td>\n",
              "      <td>4155.0</td>\n",
              "    </tr>\n",
              "    <tr>\n",
              "      <th>3</th>\n",
              "      <td>2.4072</td>\n",
              "      <td>4158.0</td>\n",
              "    </tr>\n",
              "    <tr>\n",
              "      <th>4</th>\n",
              "      <td>2.4112</td>\n",
              "      <td>4175.0</td>\n",
              "    </tr>\n",
              "    <tr>\n",
              "      <th>...</th>\n",
              "      <td>...</td>\n",
              "      <td>...</td>\n",
              "    </tr>\n",
              "    <tr>\n",
              "      <th>373</th>\n",
              "      <td>6.3352</td>\n",
              "      <td>18977.0</td>\n",
              "    </tr>\n",
              "    <tr>\n",
              "      <th>374</th>\n",
              "      <td>6.3392</td>\n",
              "      <td>18966.0</td>\n",
              "    </tr>\n",
              "    <tr>\n",
              "      <th>375</th>\n",
              "      <td>6.3552</td>\n",
              "      <td>18925.0</td>\n",
              "    </tr>\n",
              "    <tr>\n",
              "      <th>376</th>\n",
              "      <td>6.3592</td>\n",
              "      <td>18844.0</td>\n",
              "    </tr>\n",
              "    <tr>\n",
              "      <th>377</th>\n",
              "      <td>6.3752</td>\n",
              "      <td>18793.0</td>\n",
              "    </tr>\n",
              "  </tbody>\n",
              "</table>\n",
              "<p>378 rows × 2 columns</p>\n",
              "</div>\n",
              "      <button class=\"colab-df-convert\" onclick=\"convertToInteractive('df-c78a6d27-a7b6-47f7-bf6a-2ae38cb050cd')\"\n",
              "              title=\"Convert this dataframe to an interactive table.\"\n",
              "              style=\"display:none;\">\n",
              "        \n",
              "  <svg xmlns=\"http://www.w3.org/2000/svg\" height=\"24px\"viewBox=\"0 0 24 24\"\n",
              "       width=\"24px\">\n",
              "    <path d=\"M0 0h24v24H0V0z\" fill=\"none\"/>\n",
              "    <path d=\"M18.56 5.44l.94 2.06.94-2.06 2.06-.94-2.06-.94-.94-2.06-.94 2.06-2.06.94zm-11 1L8.5 8.5l.94-2.06 2.06-.94-2.06-.94L8.5 2.5l-.94 2.06-2.06.94zm10 10l.94 2.06.94-2.06 2.06-.94-2.06-.94-.94-2.06-.94 2.06-2.06.94z\"/><path d=\"M17.41 7.96l-1.37-1.37c-.4-.4-.92-.59-1.43-.59-.52 0-1.04.2-1.43.59L10.3 9.45l-7.72 7.72c-.78.78-.78 2.05 0 2.83L4 21.41c.39.39.9.59 1.41.59.51 0 1.02-.2 1.41-.59l7.78-7.78 2.81-2.81c.8-.78.8-2.07 0-2.86zM5.41 20L4 18.59l7.72-7.72 1.47 1.35L5.41 20z\"/>\n",
              "  </svg>\n",
              "      </button>\n",
              "      \n",
              "  <style>\n",
              "    .colab-df-container {\n",
              "      display:flex;\n",
              "      flex-wrap:wrap;\n",
              "      gap: 12px;\n",
              "    }\n",
              "\n",
              "    .colab-df-convert {\n",
              "      background-color: #E8F0FE;\n",
              "      border: none;\n",
              "      border-radius: 50%;\n",
              "      cursor: pointer;\n",
              "      display: none;\n",
              "      fill: #1967D2;\n",
              "      height: 32px;\n",
              "      padding: 0 0 0 0;\n",
              "      width: 32px;\n",
              "    }\n",
              "\n",
              "    .colab-df-convert:hover {\n",
              "      background-color: #E2EBFA;\n",
              "      box-shadow: 0px 1px 2px rgba(60, 64, 67, 0.3), 0px 1px 3px 1px rgba(60, 64, 67, 0.15);\n",
              "      fill: #174EA6;\n",
              "    }\n",
              "\n",
              "    [theme=dark] .colab-df-convert {\n",
              "      background-color: #3B4455;\n",
              "      fill: #D2E3FC;\n",
              "    }\n",
              "\n",
              "    [theme=dark] .colab-df-convert:hover {\n",
              "      background-color: #434B5C;\n",
              "      box-shadow: 0px 1px 3px 1px rgba(0, 0, 0, 0.15);\n",
              "      filter: drop-shadow(0px 1px 2px rgba(0, 0, 0, 0.3));\n",
              "      fill: #FFFFFF;\n",
              "    }\n",
              "  </style>\n",
              "\n",
              "      <script>\n",
              "        const buttonEl =\n",
              "          document.querySelector('#df-c78a6d27-a7b6-47f7-bf6a-2ae38cb050cd button.colab-df-convert');\n",
              "        buttonEl.style.display =\n",
              "          google.colab.kernel.accessAllowed ? 'block' : 'none';\n",
              "\n",
              "        async function convertToInteractive(key) {\n",
              "          const element = document.querySelector('#df-c78a6d27-a7b6-47f7-bf6a-2ae38cb050cd');\n",
              "          const dataTable =\n",
              "            await google.colab.kernel.invokeFunction('convertToInteractive',\n",
              "                                                     [key], {});\n",
              "          if (!dataTable) return;\n",
              "\n",
              "          const docLinkHtml = 'Like what you see? Visit the ' +\n",
              "            '<a target=\"_blank\" href=https://colab.research.google.com/notebooks/data_table.ipynb>data table notebook</a>'\n",
              "            + ' to learn more about interactive tables.';\n",
              "          element.innerHTML = '';\n",
              "          dataTable['output_type'] = 'display_data';\n",
              "          await google.colab.output.renderOutput(dataTable, element);\n",
              "          const docLink = document.createElement('div');\n",
              "          docLink.innerHTML = docLinkHtml;\n",
              "          element.appendChild(docLink);\n",
              "        }\n",
              "      </script>\n",
              "    </div>\n",
              "  </div>\n",
              "  "
            ]
          },
          "metadata": {},
          "execution_count": 7
        }
      ]
    },
    {
      "cell_type": "code",
      "source": [
        "df_list[1]"
      ],
      "metadata": {
        "colab": {
          "base_uri": "https://localhost:8080/",
          "height": 424
        },
        "id": "SSmDuaAMk8bn",
        "outputId": "348b45da-83e4-4abf-8386-8834271ab5d5"
      },
      "execution_count": null,
      "outputs": [
        {
          "output_type": "execute_result",
          "data": {
            "text/plain": [
              "        time  Movement\n",
              "0     7.7872    4163.0\n",
              "1     7.7912    4160.0\n",
              "2     7.8072    4161.0\n",
              "3     7.8112    4161.0\n",
              "4     7.8272    4176.0\n",
              "..       ...       ...\n",
              "219  10.0912   18981.0\n",
              "220  10.0952   18983.0\n",
              "221  10.1112   18983.0\n",
              "222  10.1152   18983.0\n",
              "223  10.1313   18980.0\n",
              "\n",
              "[224 rows x 2 columns]"
            ],
            "text/html": [
              "\n",
              "  <div id=\"df-cdf9d0b9-9f3e-406d-8811-d9f29370ca81\">\n",
              "    <div class=\"colab-df-container\">\n",
              "      <div>\n",
              "<style scoped>\n",
              "    .dataframe tbody tr th:only-of-type {\n",
              "        vertical-align: middle;\n",
              "    }\n",
              "\n",
              "    .dataframe tbody tr th {\n",
              "        vertical-align: top;\n",
              "    }\n",
              "\n",
              "    .dataframe thead th {\n",
              "        text-align: right;\n",
              "    }\n",
              "</style>\n",
              "<table border=\"1\" class=\"dataframe\">\n",
              "  <thead>\n",
              "    <tr style=\"text-align: right;\">\n",
              "      <th></th>\n",
              "      <th>time</th>\n",
              "      <th>Movement</th>\n",
              "    </tr>\n",
              "  </thead>\n",
              "  <tbody>\n",
              "    <tr>\n",
              "      <th>0</th>\n",
              "      <td>7.7872</td>\n",
              "      <td>4163.0</td>\n",
              "    </tr>\n",
              "    <tr>\n",
              "      <th>1</th>\n",
              "      <td>7.7912</td>\n",
              "      <td>4160.0</td>\n",
              "    </tr>\n",
              "    <tr>\n",
              "      <th>2</th>\n",
              "      <td>7.8072</td>\n",
              "      <td>4161.0</td>\n",
              "    </tr>\n",
              "    <tr>\n",
              "      <th>3</th>\n",
              "      <td>7.8112</td>\n",
              "      <td>4161.0</td>\n",
              "    </tr>\n",
              "    <tr>\n",
              "      <th>4</th>\n",
              "      <td>7.8272</td>\n",
              "      <td>4176.0</td>\n",
              "    </tr>\n",
              "    <tr>\n",
              "      <th>...</th>\n",
              "      <td>...</td>\n",
              "      <td>...</td>\n",
              "    </tr>\n",
              "    <tr>\n",
              "      <th>219</th>\n",
              "      <td>10.0912</td>\n",
              "      <td>18981.0</td>\n",
              "    </tr>\n",
              "    <tr>\n",
              "      <th>220</th>\n",
              "      <td>10.0952</td>\n",
              "      <td>18983.0</td>\n",
              "    </tr>\n",
              "    <tr>\n",
              "      <th>221</th>\n",
              "      <td>10.1112</td>\n",
              "      <td>18983.0</td>\n",
              "    </tr>\n",
              "    <tr>\n",
              "      <th>222</th>\n",
              "      <td>10.1152</td>\n",
              "      <td>18983.0</td>\n",
              "    </tr>\n",
              "    <tr>\n",
              "      <th>223</th>\n",
              "      <td>10.1313</td>\n",
              "      <td>18980.0</td>\n",
              "    </tr>\n",
              "  </tbody>\n",
              "</table>\n",
              "<p>224 rows × 2 columns</p>\n",
              "</div>\n",
              "      <button class=\"colab-df-convert\" onclick=\"convertToInteractive('df-cdf9d0b9-9f3e-406d-8811-d9f29370ca81')\"\n",
              "              title=\"Convert this dataframe to an interactive table.\"\n",
              "              style=\"display:none;\">\n",
              "        \n",
              "  <svg xmlns=\"http://www.w3.org/2000/svg\" height=\"24px\"viewBox=\"0 0 24 24\"\n",
              "       width=\"24px\">\n",
              "    <path d=\"M0 0h24v24H0V0z\" fill=\"none\"/>\n",
              "    <path d=\"M18.56 5.44l.94 2.06.94-2.06 2.06-.94-2.06-.94-.94-2.06-.94 2.06-2.06.94zm-11 1L8.5 8.5l.94-2.06 2.06-.94-2.06-.94L8.5 2.5l-.94 2.06-2.06.94zm10 10l.94 2.06.94-2.06 2.06-.94-2.06-.94-.94-2.06-.94 2.06-2.06.94z\"/><path d=\"M17.41 7.96l-1.37-1.37c-.4-.4-.92-.59-1.43-.59-.52 0-1.04.2-1.43.59L10.3 9.45l-7.72 7.72c-.78.78-.78 2.05 0 2.83L4 21.41c.39.39.9.59 1.41.59.51 0 1.02-.2 1.41-.59l7.78-7.78 2.81-2.81c.8-.78.8-2.07 0-2.86zM5.41 20L4 18.59l7.72-7.72 1.47 1.35L5.41 20z\"/>\n",
              "  </svg>\n",
              "      </button>\n",
              "      \n",
              "  <style>\n",
              "    .colab-df-container {\n",
              "      display:flex;\n",
              "      flex-wrap:wrap;\n",
              "      gap: 12px;\n",
              "    }\n",
              "\n",
              "    .colab-df-convert {\n",
              "      background-color: #E8F0FE;\n",
              "      border: none;\n",
              "      border-radius: 50%;\n",
              "      cursor: pointer;\n",
              "      display: none;\n",
              "      fill: #1967D2;\n",
              "      height: 32px;\n",
              "      padding: 0 0 0 0;\n",
              "      width: 32px;\n",
              "    }\n",
              "\n",
              "    .colab-df-convert:hover {\n",
              "      background-color: #E2EBFA;\n",
              "      box-shadow: 0px 1px 2px rgba(60, 64, 67, 0.3), 0px 1px 3px 1px rgba(60, 64, 67, 0.15);\n",
              "      fill: #174EA6;\n",
              "    }\n",
              "\n",
              "    [theme=dark] .colab-df-convert {\n",
              "      background-color: #3B4455;\n",
              "      fill: #D2E3FC;\n",
              "    }\n",
              "\n",
              "    [theme=dark] .colab-df-convert:hover {\n",
              "      background-color: #434B5C;\n",
              "      box-shadow: 0px 1px 3px 1px rgba(0, 0, 0, 0.15);\n",
              "      filter: drop-shadow(0px 1px 2px rgba(0, 0, 0, 0.3));\n",
              "      fill: #FFFFFF;\n",
              "    }\n",
              "  </style>\n",
              "\n",
              "      <script>\n",
              "        const buttonEl =\n",
              "          document.querySelector('#df-cdf9d0b9-9f3e-406d-8811-d9f29370ca81 button.colab-df-convert');\n",
              "        buttonEl.style.display =\n",
              "          google.colab.kernel.accessAllowed ? 'block' : 'none';\n",
              "\n",
              "        async function convertToInteractive(key) {\n",
              "          const element = document.querySelector('#df-cdf9d0b9-9f3e-406d-8811-d9f29370ca81');\n",
              "          const dataTable =\n",
              "            await google.colab.kernel.invokeFunction('convertToInteractive',\n",
              "                                                     [key], {});\n",
              "          if (!dataTable) return;\n",
              "\n",
              "          const docLinkHtml = 'Like what you see? Visit the ' +\n",
              "            '<a target=\"_blank\" href=https://colab.research.google.com/notebooks/data_table.ipynb>data table notebook</a>'\n",
              "            + ' to learn more about interactive tables.';\n",
              "          element.innerHTML = '';\n",
              "          dataTable['output_type'] = 'display_data';\n",
              "          await google.colab.output.renderOutput(dataTable, element);\n",
              "          const docLink = document.createElement('div');\n",
              "          docLink.innerHTML = docLinkHtml;\n",
              "          element.appendChild(docLink);\n",
              "        }\n",
              "      </script>\n",
              "    </div>\n",
              "  </div>\n",
              "  "
            ]
          },
          "metadata": {},
          "execution_count": 8
        }
      ]
    },
    {
      "cell_type": "markdown",
      "source": [
        "## Task 2\n",
        "If you look at the time component of the signal, you notice that the sample times are uneven.\n",
        "This will cause problems, so you first need to resample the data to have equally spaced samples. Do\n",
        "that."
      ],
      "metadata": {
        "id": "7N8j44d7wYON"
      }
    },
    {
      "cell_type": "markdown",
      "source": [
        "\n"
      ],
      "metadata": {
        "id": "M3ucbwelrK7v"
      }
    },
    {
      "cell_type": "code",
      "source": [
        "from re import X\n",
        "from operator import length_hint\n",
        "import numpy as np\n",
        "df_list_new = []\n",
        "for i in range (0,len(df_list)):\n",
        "  time = np.array(df_list[i]['time'])\n",
        "  movement = np.array(df_list[i]['Movement'])\n",
        "  x = np.arange(time[i], time[len(time)-1], 0.01)\n",
        "  y = np.interp(x, time, movement)\n",
        "  df=pd.DataFrame(x,columns=['time'])\n",
        "  # Energy Features\n",
        "  df.insert(1,\"Movement\",y,True)\n",
        "  df_list_new.append(df)"
      ],
      "metadata": {
        "id": "R3r72TFBnQ3g"
      },
      "execution_count": null,
      "outputs": []
    },
    {
      "cell_type": "code",
      "source": [
        "df_list_new[0]"
      ],
      "metadata": {
        "colab": {
          "base_uri": "https://localhost:8080/",
          "height": 424
        },
        "id": "mCbn_ACTwSRs",
        "outputId": "ab8f3b68-8a6f-415d-e655-9b4b73496add"
      },
      "execution_count": null,
      "outputs": [
        {
          "output_type": "execute_result",
          "data": {
            "text/plain": [
              "       time   Movement\n",
              "0    2.3712   4153.000\n",
              "1    2.3812   4153.000\n",
              "2    2.3912   4155.000\n",
              "3    2.4012   4156.875\n",
              "4    2.4112   4175.000\n",
              "..      ...        ...\n",
              "396  6.3312  18977.250\n",
              "397  6.3412  18960.875\n",
              "398  6.3512  18935.250\n",
              "399  6.3612  18837.625\n",
              "400  6.3712  18805.750\n",
              "\n",
              "[401 rows x 2 columns]"
            ],
            "text/html": [
              "\n",
              "  <div id=\"df-f8e3edde-dacd-49af-a178-2d7e124b7226\">\n",
              "    <div class=\"colab-df-container\">\n",
              "      <div>\n",
              "<style scoped>\n",
              "    .dataframe tbody tr th:only-of-type {\n",
              "        vertical-align: middle;\n",
              "    }\n",
              "\n",
              "    .dataframe tbody tr th {\n",
              "        vertical-align: top;\n",
              "    }\n",
              "\n",
              "    .dataframe thead th {\n",
              "        text-align: right;\n",
              "    }\n",
              "</style>\n",
              "<table border=\"1\" class=\"dataframe\">\n",
              "  <thead>\n",
              "    <tr style=\"text-align: right;\">\n",
              "      <th></th>\n",
              "      <th>time</th>\n",
              "      <th>Movement</th>\n",
              "    </tr>\n",
              "  </thead>\n",
              "  <tbody>\n",
              "    <tr>\n",
              "      <th>0</th>\n",
              "      <td>2.3712</td>\n",
              "      <td>4153.000</td>\n",
              "    </tr>\n",
              "    <tr>\n",
              "      <th>1</th>\n",
              "      <td>2.3812</td>\n",
              "      <td>4153.000</td>\n",
              "    </tr>\n",
              "    <tr>\n",
              "      <th>2</th>\n",
              "      <td>2.3912</td>\n",
              "      <td>4155.000</td>\n",
              "    </tr>\n",
              "    <tr>\n",
              "      <th>3</th>\n",
              "      <td>2.4012</td>\n",
              "      <td>4156.875</td>\n",
              "    </tr>\n",
              "    <tr>\n",
              "      <th>4</th>\n",
              "      <td>2.4112</td>\n",
              "      <td>4175.000</td>\n",
              "    </tr>\n",
              "    <tr>\n",
              "      <th>...</th>\n",
              "      <td>...</td>\n",
              "      <td>...</td>\n",
              "    </tr>\n",
              "    <tr>\n",
              "      <th>396</th>\n",
              "      <td>6.3312</td>\n",
              "      <td>18977.250</td>\n",
              "    </tr>\n",
              "    <tr>\n",
              "      <th>397</th>\n",
              "      <td>6.3412</td>\n",
              "      <td>18960.875</td>\n",
              "    </tr>\n",
              "    <tr>\n",
              "      <th>398</th>\n",
              "      <td>6.3512</td>\n",
              "      <td>18935.250</td>\n",
              "    </tr>\n",
              "    <tr>\n",
              "      <th>399</th>\n",
              "      <td>6.3612</td>\n",
              "      <td>18837.625</td>\n",
              "    </tr>\n",
              "    <tr>\n",
              "      <th>400</th>\n",
              "      <td>6.3712</td>\n",
              "      <td>18805.750</td>\n",
              "    </tr>\n",
              "  </tbody>\n",
              "</table>\n",
              "<p>401 rows × 2 columns</p>\n",
              "</div>\n",
              "      <button class=\"colab-df-convert\" onclick=\"convertToInteractive('df-f8e3edde-dacd-49af-a178-2d7e124b7226')\"\n",
              "              title=\"Convert this dataframe to an interactive table.\"\n",
              "              style=\"display:none;\">\n",
              "        \n",
              "  <svg xmlns=\"http://www.w3.org/2000/svg\" height=\"24px\"viewBox=\"0 0 24 24\"\n",
              "       width=\"24px\">\n",
              "    <path d=\"M0 0h24v24H0V0z\" fill=\"none\"/>\n",
              "    <path d=\"M18.56 5.44l.94 2.06.94-2.06 2.06-.94-2.06-.94-.94-2.06-.94 2.06-2.06.94zm-11 1L8.5 8.5l.94-2.06 2.06-.94-2.06-.94L8.5 2.5l-.94 2.06-2.06.94zm10 10l.94 2.06.94-2.06 2.06-.94-2.06-.94-.94-2.06-.94 2.06-2.06.94z\"/><path d=\"M17.41 7.96l-1.37-1.37c-.4-.4-.92-.59-1.43-.59-.52 0-1.04.2-1.43.59L10.3 9.45l-7.72 7.72c-.78.78-.78 2.05 0 2.83L4 21.41c.39.39.9.59 1.41.59.51 0 1.02-.2 1.41-.59l7.78-7.78 2.81-2.81c.8-.78.8-2.07 0-2.86zM5.41 20L4 18.59l7.72-7.72 1.47 1.35L5.41 20z\"/>\n",
              "  </svg>\n",
              "      </button>\n",
              "      \n",
              "  <style>\n",
              "    .colab-df-container {\n",
              "      display:flex;\n",
              "      flex-wrap:wrap;\n",
              "      gap: 12px;\n",
              "    }\n",
              "\n",
              "    .colab-df-convert {\n",
              "      background-color: #E8F0FE;\n",
              "      border: none;\n",
              "      border-radius: 50%;\n",
              "      cursor: pointer;\n",
              "      display: none;\n",
              "      fill: #1967D2;\n",
              "      height: 32px;\n",
              "      padding: 0 0 0 0;\n",
              "      width: 32px;\n",
              "    }\n",
              "\n",
              "    .colab-df-convert:hover {\n",
              "      background-color: #E2EBFA;\n",
              "      box-shadow: 0px 1px 2px rgba(60, 64, 67, 0.3), 0px 1px 3px 1px rgba(60, 64, 67, 0.15);\n",
              "      fill: #174EA6;\n",
              "    }\n",
              "\n",
              "    [theme=dark] .colab-df-convert {\n",
              "      background-color: #3B4455;\n",
              "      fill: #D2E3FC;\n",
              "    }\n",
              "\n",
              "    [theme=dark] .colab-df-convert:hover {\n",
              "      background-color: #434B5C;\n",
              "      box-shadow: 0px 1px 3px 1px rgba(0, 0, 0, 0.15);\n",
              "      filter: drop-shadow(0px 1px 2px rgba(0, 0, 0, 0.3));\n",
              "      fill: #FFFFFF;\n",
              "    }\n",
              "  </style>\n",
              "\n",
              "      <script>\n",
              "        const buttonEl =\n",
              "          document.querySelector('#df-f8e3edde-dacd-49af-a178-2d7e124b7226 button.colab-df-convert');\n",
              "        buttonEl.style.display =\n",
              "          google.colab.kernel.accessAllowed ? 'block' : 'none';\n",
              "\n",
              "        async function convertToInteractive(key) {\n",
              "          const element = document.querySelector('#df-f8e3edde-dacd-49af-a178-2d7e124b7226');\n",
              "          const dataTable =\n",
              "            await google.colab.kernel.invokeFunction('convertToInteractive',\n",
              "                                                     [key], {});\n",
              "          if (!dataTable) return;\n",
              "\n",
              "          const docLinkHtml = 'Like what you see? Visit the ' +\n",
              "            '<a target=\"_blank\" href=https://colab.research.google.com/notebooks/data_table.ipynb>data table notebook</a>'\n",
              "            + ' to learn more about interactive tables.';\n",
              "          element.innerHTML = '';\n",
              "          dataTable['output_type'] = 'display_data';\n",
              "          await google.colab.output.renderOutput(dataTable, element);\n",
              "          const docLink = document.createElement('div');\n",
              "          docLink.innerHTML = docLinkHtml;\n",
              "          element.appendChild(docLink);\n",
              "        }\n",
              "      </script>\n",
              "    </div>\n",
              "  </div>\n",
              "  "
            ]
          },
          "metadata": {},
          "execution_count": 10
        }
      ]
    },
    {
      "cell_type": "code",
      "source": [
        "df_list_new[1]"
      ],
      "metadata": {
        "colab": {
          "base_uri": "https://localhost:8080/",
          "height": 424
        },
        "id": "nV9XvEzTwUxj",
        "outputId": "af96a130-4249-4e55-ea7a-75102de048e8"
      },
      "execution_count": null,
      "outputs": [
        {
          "output_type": "execute_result",
          "data": {
            "text/plain": [
              "        time      Movement\n",
              "0     7.7912   4160.000000\n",
              "1     7.8012   4160.625000\n",
              "2     7.8112   4161.000000\n",
              "3     7.8212   4170.375000\n",
              "4     7.8312   4282.000000\n",
              "..       ...           ...\n",
              "230  10.0912  18981.000000\n",
              "231  10.1012  18983.000000\n",
              "232  10.1112  18983.000000\n",
              "233  10.1212  18981.881988\n",
              "234  10.1312  18980.018634\n",
              "\n",
              "[235 rows x 2 columns]"
            ],
            "text/html": [
              "\n",
              "  <div id=\"df-d3b5994b-a637-4e6b-b738-0ba8938e830c\">\n",
              "    <div class=\"colab-df-container\">\n",
              "      <div>\n",
              "<style scoped>\n",
              "    .dataframe tbody tr th:only-of-type {\n",
              "        vertical-align: middle;\n",
              "    }\n",
              "\n",
              "    .dataframe tbody tr th {\n",
              "        vertical-align: top;\n",
              "    }\n",
              "\n",
              "    .dataframe thead th {\n",
              "        text-align: right;\n",
              "    }\n",
              "</style>\n",
              "<table border=\"1\" class=\"dataframe\">\n",
              "  <thead>\n",
              "    <tr style=\"text-align: right;\">\n",
              "      <th></th>\n",
              "      <th>time</th>\n",
              "      <th>Movement</th>\n",
              "    </tr>\n",
              "  </thead>\n",
              "  <tbody>\n",
              "    <tr>\n",
              "      <th>0</th>\n",
              "      <td>7.7912</td>\n",
              "      <td>4160.000000</td>\n",
              "    </tr>\n",
              "    <tr>\n",
              "      <th>1</th>\n",
              "      <td>7.8012</td>\n",
              "      <td>4160.625000</td>\n",
              "    </tr>\n",
              "    <tr>\n",
              "      <th>2</th>\n",
              "      <td>7.8112</td>\n",
              "      <td>4161.000000</td>\n",
              "    </tr>\n",
              "    <tr>\n",
              "      <th>3</th>\n",
              "      <td>7.8212</td>\n",
              "      <td>4170.375000</td>\n",
              "    </tr>\n",
              "    <tr>\n",
              "      <th>4</th>\n",
              "      <td>7.8312</td>\n",
              "      <td>4282.000000</td>\n",
              "    </tr>\n",
              "    <tr>\n",
              "      <th>...</th>\n",
              "      <td>...</td>\n",
              "      <td>...</td>\n",
              "    </tr>\n",
              "    <tr>\n",
              "      <th>230</th>\n",
              "      <td>10.0912</td>\n",
              "      <td>18981.000000</td>\n",
              "    </tr>\n",
              "    <tr>\n",
              "      <th>231</th>\n",
              "      <td>10.1012</td>\n",
              "      <td>18983.000000</td>\n",
              "    </tr>\n",
              "    <tr>\n",
              "      <th>232</th>\n",
              "      <td>10.1112</td>\n",
              "      <td>18983.000000</td>\n",
              "    </tr>\n",
              "    <tr>\n",
              "      <th>233</th>\n",
              "      <td>10.1212</td>\n",
              "      <td>18981.881988</td>\n",
              "    </tr>\n",
              "    <tr>\n",
              "      <th>234</th>\n",
              "      <td>10.1312</td>\n",
              "      <td>18980.018634</td>\n",
              "    </tr>\n",
              "  </tbody>\n",
              "</table>\n",
              "<p>235 rows × 2 columns</p>\n",
              "</div>\n",
              "      <button class=\"colab-df-convert\" onclick=\"convertToInteractive('df-d3b5994b-a637-4e6b-b738-0ba8938e830c')\"\n",
              "              title=\"Convert this dataframe to an interactive table.\"\n",
              "              style=\"display:none;\">\n",
              "        \n",
              "  <svg xmlns=\"http://www.w3.org/2000/svg\" height=\"24px\"viewBox=\"0 0 24 24\"\n",
              "       width=\"24px\">\n",
              "    <path d=\"M0 0h24v24H0V0z\" fill=\"none\"/>\n",
              "    <path d=\"M18.56 5.44l.94 2.06.94-2.06 2.06-.94-2.06-.94-.94-2.06-.94 2.06-2.06.94zm-11 1L8.5 8.5l.94-2.06 2.06-.94-2.06-.94L8.5 2.5l-.94 2.06-2.06.94zm10 10l.94 2.06.94-2.06 2.06-.94-2.06-.94-.94-2.06-.94 2.06-2.06.94z\"/><path d=\"M17.41 7.96l-1.37-1.37c-.4-.4-.92-.59-1.43-.59-.52 0-1.04.2-1.43.59L10.3 9.45l-7.72 7.72c-.78.78-.78 2.05 0 2.83L4 21.41c.39.39.9.59 1.41.59.51 0 1.02-.2 1.41-.59l7.78-7.78 2.81-2.81c.8-.78.8-2.07 0-2.86zM5.41 20L4 18.59l7.72-7.72 1.47 1.35L5.41 20z\"/>\n",
              "  </svg>\n",
              "      </button>\n",
              "      \n",
              "  <style>\n",
              "    .colab-df-container {\n",
              "      display:flex;\n",
              "      flex-wrap:wrap;\n",
              "      gap: 12px;\n",
              "    }\n",
              "\n",
              "    .colab-df-convert {\n",
              "      background-color: #E8F0FE;\n",
              "      border: none;\n",
              "      border-radius: 50%;\n",
              "      cursor: pointer;\n",
              "      display: none;\n",
              "      fill: #1967D2;\n",
              "      height: 32px;\n",
              "      padding: 0 0 0 0;\n",
              "      width: 32px;\n",
              "    }\n",
              "\n",
              "    .colab-df-convert:hover {\n",
              "      background-color: #E2EBFA;\n",
              "      box-shadow: 0px 1px 2px rgba(60, 64, 67, 0.3), 0px 1px 3px 1px rgba(60, 64, 67, 0.15);\n",
              "      fill: #174EA6;\n",
              "    }\n",
              "\n",
              "    [theme=dark] .colab-df-convert {\n",
              "      background-color: #3B4455;\n",
              "      fill: #D2E3FC;\n",
              "    }\n",
              "\n",
              "    [theme=dark] .colab-df-convert:hover {\n",
              "      background-color: #434B5C;\n",
              "      box-shadow: 0px 1px 3px 1px rgba(0, 0, 0, 0.15);\n",
              "      filter: drop-shadow(0px 1px 2px rgba(0, 0, 0, 0.3));\n",
              "      fill: #FFFFFF;\n",
              "    }\n",
              "  </style>\n",
              "\n",
              "      <script>\n",
              "        const buttonEl =\n",
              "          document.querySelector('#df-d3b5994b-a637-4e6b-b738-0ba8938e830c button.colab-df-convert');\n",
              "        buttonEl.style.display =\n",
              "          google.colab.kernel.accessAllowed ? 'block' : 'none';\n",
              "\n",
              "        async function convertToInteractive(key) {\n",
              "          const element = document.querySelector('#df-d3b5994b-a637-4e6b-b738-0ba8938e830c');\n",
              "          const dataTable =\n",
              "            await google.colab.kernel.invokeFunction('convertToInteractive',\n",
              "                                                     [key], {});\n",
              "          if (!dataTable) return;\n",
              "\n",
              "          const docLinkHtml = 'Like what you see? Visit the ' +\n",
              "            '<a target=\"_blank\" href=https://colab.research.google.com/notebooks/data_table.ipynb>data table notebook</a>'\n",
              "            + ' to learn more about interactive tables.';\n",
              "          element.innerHTML = '';\n",
              "          dataTable['output_type'] = 'display_data';\n",
              "          await google.colab.output.renderOutput(dataTable, element);\n",
              "          const docLink = document.createElement('div');\n",
              "          docLink.innerHTML = docLinkHtml;\n",
              "          element.appendChild(docLink);\n",
              "        }\n",
              "      </script>\n",
              "    </div>\n",
              "  </div>\n",
              "  "
            ]
          },
          "metadata": {},
          "execution_count": 11
        }
      ]
    },
    {
      "cell_type": "markdown",
      "source": [
        "## Task 3\n",
        "You can now drop the time signal, which is not informative anymore. Now, compute the\n",
        "average of the two movements that you extracted.\n",
        "\n",
        "The two movements don’t have the same length, what should you do?"
      ],
      "metadata": {
        "id": "pG8JBjpjwdca"
      }
    },
    {
      "cell_type": "code",
      "source": [
        "for i in df_list_new:\n",
        "  i.drop('time', inplace=True, axis=1)"
      ],
      "metadata": {
        "id": "HQLhFqkNwe51"
      },
      "execution_count": null,
      "outputs": []
    },
    {
      "cell_type": "code",
      "source": [
        "average = []\n",
        "import statistics\n",
        "val_max = max(len(df_list_new[0]), len(df_list_new[1]))\n",
        "for i in range(0, val_max):\n",
        "  if i < len(df_list_new[1]):\n",
        "    average.append(statistics.mean([float(df_list_new[0]['Movement'][i]), float(df_list_new[1]['Movement'][i])]))\n",
        "  else:\n",
        "    average.append(statistics.mean([float(df_list_new[0]['Movement'][i]), float(df_list_new[1]['Movement'][len(df_list_new[1])-1])]))\n"
      ],
      "metadata": {
        "id": "UrirdLoNzXpO"
      },
      "execution_count": null,
      "outputs": []
    },
    {
      "cell_type": "markdown",
      "source": [
        "## Task 4\n",
        "Load this file, visualize, and briefly describe the dataset. Also display the average trajectory\n",
        "for each condition.\n"
      ],
      "metadata": {
        "id": "4bOIXr9r_FNI"
      }
    },
    {
      "cell_type": "code",
      "source": [
        "# Pickle\n",
        "average = []\n",
        "import pickle\n",
        "with open (\"extracted_data_extended\", \"rb\") as handle :\n",
        "  dataset = pickle.load(handle)\n",
        "dataset = dict(sorted(dataset.items(), key=lambda item: item[0],reverse=False))\n",
        "names = list(dataset.keys())\n",
        "values = list(dataset.values())\n",
        "\n",
        "sns.set(rc={'figure.figsize':(15,12)})\n",
        "average_trajectories = [None] * len(names)\n",
        "fig, axs = plt.subplots(nrows=2, ncols=3)\n",
        "for j in range(len(names)):\n",
        "  [row, column] = np.shape(values[j])\n",
        "  average = 0\n",
        "  for i in range(row):\n",
        "    average += values[j][i]\n",
        "  average_trajectories[j] = average/column\n",
        "  plt.subplot(2,3,j+1) \n",
        "  plt.plot(list(range(column)), average_trajectories[j], 'r-', label='Movement')\n",
        "  plt.title('Movement ' + names[j])\n",
        "  plt.xlabel('time')\n",
        "  plt.legend()\n"
      ],
      "metadata": {
        "colab": {
          "base_uri": "https://localhost:8080/",
          "height": 736
        },
        "id": "XWpEqwN4_HQu",
        "outputId": "e56e68d0-3e4a-4352-b098-5f68122a7043"
      },
      "execution_count": null,
      "outputs": [
        {
          "output_type": "display_data",
          "data": {
            "text/plain": [
              "<Figure size 1080x864 with 6 Axes>"
            ],
            "image/png": "[encoded data removed]"
          },
          "metadata": {}
        }
      ]
    },
    {
      "cell_type": "markdown",
      "source": [
        "## Task 5\n",
        "For each condition, determine by the eye when the average movement ends (i.e., when it levels off)"
      ],
      "metadata": {
        "id": "7XlCJlB6ADI4"
      }
    },
    {
      "cell_type": "markdown",
      "source": [
        "# 2. Single-joint forearm dynamics"
      ],
      "metadata": {
        "id": "nn0MnQs2AFz-"
      }
    },
    {
      "cell_type": "markdown",
      "source": [
        "## Task 6\n",
        "Put the system in the general form of a linear system."
      ],
      "metadata": {
        "id": "yzx7-gc-ALgU"
      }
    },
    {
      "cell_type": "markdown",
      "source": [
        "\n",
        "$$\n",
        "I \\ddot{\\theta} - b \\dot{\\theta} = \\tau\n",
        "$$\n",
        "\n",
        "$$\n",
        "\\ddot{\\theta} = \\frac{\\tau}{I} - \\frac{b}{I} \\dot{\\theta}\n",
        "$$\n",
        "\n",
        "$$\n",
        "x = \\begin{bmatrix}\n",
        "\\theta\\\\ \n",
        "\\dot{\\theta}\n",
        "\\end{bmatrix} \n",
        "$$\n",
        "\n",
        "\n",
        "$$\n",
        "\\ddot{x} = \\begin{bmatrix}\n",
        "\\dot{\\theta}\\\\ \n",
        "\\ddot{\\theta}\n",
        "\\end{bmatrix}\n",
        "$$\n",
        "\n",
        "$$\n",
        "\\dot{x} = Fx + G \\tau\n",
        "$$\n",
        "\n",
        "$$\n",
        "\\ddot{x} = \\begin{bmatrix}\n",
        "\\dot{\\theta}\\\\ \n",
        "\\ddot{\\theta}\n",
        "\\end{bmatrix} = \\begin{bmatrix}\n",
        "0 & 1\\\\ \n",
        "0 & -\\frac{b}{I}\n",
        "\\end{bmatrix}\\begin{bmatrix}\n",
        "\\theta\\\\ \n",
        "\\dot{\\theta}\n",
        "\\end{bmatrix}+\\begin{bmatrix}\n",
        "0\\\\ \n",
        "\\frac{1}{I}\n",
        "\\end{bmatrix}\\tau\n",
        "$$"
      ],
      "metadata": {
        "id": "Tqsw0WCoBlh4"
      }
    },
    {
      "cell_type": "markdown",
      "source": [
        "## Task 7"
      ],
      "metadata": {
        "id": "G-hNJDACDeQe"
      }
    },
    {
      "cell_type": "markdown",
      "source": [
        "Use the Euler forward approximation \n",
        "to find the equivalents of F and\n",
        "G in discrete time.\n",
        "\n",
        "$$\n",
        "\\dot{x}(t) = \\frac{x[(k+1)T]-x[kt]}{\\Delta T} = F x[kT] + Gu[kT]\n",
        "$$\n",
        "\n",
        "$$\n",
        "x[(k+1)T] = x[kT] + F \\Delta Tx[kT]+\\Delta TGu[kT] = \\\\ = x[kT](I + F \\Delta T) + \\Delta T G u[kT]\n",
        "$$\n",
        "\n",
        "$$\n",
        "A = I + F \\Delta T \\\\\n",
        "B = \\Delta T G\n",
        "$$\n",
        "\n"
      ],
      "metadata": {
        "id": "vETLUbixCTVW"
      }
    },
    {
      "cell_type": "markdown",
      "source": [
        "# 3. Linear Quadratic Regulator"
      ],
      "metadata": {
        "id": "W2-yGPhSzfsj"
      }
    },
    {
      "cell_type": "markdown",
      "source": [
        "## Task 8\n",
        "Express $J$ as a function of $V$"
      ],
      "metadata": {
        "id": "vVDOQxS4zkHT"
      }
    },
    {
      "cell_type": "markdown",
      "source": [
        "# 4. LQR and Real Data"
      ],
      "metadata": {
        "id": "lPjq8-D_DgBz"
      }
    },
    {
      "cell_type": "markdown",
      "source": [
        "## Task 9\n",
        "Write a function that “solves” the LQR (i.e., computes P, K and u) for any A, B, C, Q, QF , R."
      ],
      "metadata": {
        "id": "u1WSBZRHULnW"
      }
    },
    {
      "cell_type": "code",
      "source": [
        "def lqr(x_0, Q, R, A, B, C, N):\n",
        "    P = [None] * (N + 1)    \n",
        "    Qf = Q\n",
        "    P[N] = Qf\n",
        "    for k in range(N-1, 0, -1):\n",
        "        P[k] = Q + A.T @ P[k+1] @ A - A.T @ P[k+1] @ B @ np.linalg.inv(R + B.T @ P[k+1] @ B) @ B.T @ P[k+1] @ A\n",
        "    K = [None] * N\n",
        "    u = [None] * N\n",
        "    x = [None] * (N+1)\n",
        "    y = [None] * N\n",
        "    x[0] = x_0\n",
        "    J = 0\n",
        "    for k in range(N):\n",
        "        K[k] = -np.linalg.inv(R + B.T @ P[k+1] @ B) @ B.T @ P[k+1] @ A\n",
        "        u[k] = K[k] @ x[k]\n",
        "        x[k+1] = A@x[k] + B@u[k]\n",
        "        y[k]= float(C@x[k])\n",
        "        J += (x[k].T@Q@x[k]+u[k].T@R@u[k])\n",
        "    J += x[N].T@Qf@x[N]\n",
        "    return P, K, u, x, y, J"
      ],
      "metadata": {
        "id": "Od-gwPyD9fnF"
      },
      "execution_count": null,
      "outputs": []
    },
    {
      "cell_type": "code",
      "source": [
        "A = np.array([[1, 0.01], [0, 1-0.01*0.2/0.25]])\n",
        "B = np.array([[0], [0.01/0.25]])\n",
        "C = np.array([[1, 0]])\n",
        "N = 100\n",
        "Q = C.T @ C\n",
        "Qf = Q\n",
        "rho = 0.001\n",
        "R = rho * np.eye(1)\n",
        "Q = C.T @ C\n",
        "Qf = Q\n",
        "x_0 = np.array([[0.15],[0]]).reshape(2,1)\n",
        "P, K, u, x, y, J = lqr(x_0, Q, R, A, B, C, N)"
      ],
      "metadata": {
        "id": "rRgDoKK79jmV"
      },
      "execution_count": null,
      "outputs": []
    },
    {
      "cell_type": "code",
      "source": [
        "import matplotlib.pyplot as plt\n",
        "import numpy as np\n",
        "import seaborn as sns\n",
        "time = np.arange(0,(N+1)*0.01,0.01)\n",
        "pos = []\n",
        "vel = []\n",
        "for i in x:\n",
        "  pos.append(float(i[0]))\n",
        "  vel.append(float(i[1]))\n",
        "sns.set(rc={'figure.figsize':(15,6)})\n",
        "plt.subplot(1,3,1)\n",
        "plt.plot(time, pos, 'b-', label='position')\n",
        "plt.plot(time, vel, 'r-', label='velocity')\n",
        "plt.title('Position and velocity', fontsize=16)\n",
        "plt.xlabel('time')\n",
        "plt.legend()\n",
        "time = np.arange(0,(N)*0.01,0.01)\n",
        "u_list = []\n",
        "for i in u:\n",
        "  u_list.append(float(i))\n",
        "plt.subplot(1,3,2)\n",
        "plt.plot(time, u_list, 'g-', label='u')\n",
        "plt.title('Command', fontsize=16)\n",
        "plt.xlabel('time')\n",
        "plt.legend()\n",
        "plt.subplot(1,3,3)\n",
        "plt.plot(time, y,'orange',label='y')\n",
        "plt.title('Output', fontsize=16)\n",
        "plt.xlabel('time')\n",
        "plt.legend()"
      ],
      "metadata": {
        "colab": {
          "base_uri": "https://localhost:8080/",
          "height": 429
        },
        "id": "LetvoBp69koL",
        "outputId": "0a6f8bd0-b909-4071-ce39-32fa8daf6edb"
      },
      "execution_count": null,
      "outputs": [
        {
          "output_type": "execute_result",
          "data": {
            "text/plain": [
              "<matplotlib.legend.Legend at 0x7f038ce38050>"
            ]
          },
          "metadata": {},
          "execution_count": 83
        },
        {
          "output_type": "display_data",
          "data": {
            "text/plain": [
              "<Figure size 1080x432 with 3 Axes>"
            ],
            "image/png": "[encoded data removed]"
          },
          "metadata": {}
        }
      ]
    },
    {
      "cell_type": "markdown",
      "source": [
        "## Task 11"
      ],
      "metadata": {
        "id": "kOx_VbseC1Z1"
      }
    },
    {
      "cell_type": "markdown",
      "source": [
        "Try out with multiple values of ρ and compare. Comment on the differences between solutions"
      ],
      "metadata": {
        "id": "8E9X9AdSFDgN"
      }
    },
    {
      "cell_type": "code",
      "source": [
        "rho = [0.00001, 0.0001, 0.001, 0.01, 0.1, 1]\n",
        "sns.set(rc={'figure.figsize':(15,12)})\n",
        "index = 1\n",
        "for i in rho:\n",
        "  R = i * np.eye(1)\n",
        "  _, _, u, x, y, _ = lqr(x_0, Q, R, A, B, C, N)\n",
        "  u = [float(u) for u in u]\n",
        "  y = [float(y) for y in y]\n",
        "  plt.subplot(2,3,index)\n",
        "  plt.plot(list(range(len(u))), u, 'r-', label='u')\n",
        "  plt.plot(list(range(len(y))), y, 'b-', label='y')\n",
        "  plt.title(r'$\\rho$ =' + str(i))\n",
        "  plt.xlabel('time')\n",
        "  plt.legend()\n",
        "  index += 1  "
      ],
      "metadata": {
        "colab": {
          "base_uri": "https://localhost:8080/",
          "height": 737
        },
        "id": "bGfWid3zC235",
        "outputId": "eee1e59e-25b8-4151-b412-c04ac26cb835"
      },
      "execution_count": null,
      "outputs": [
        {
          "output_type": "display_data",
          "data": {
            "text/plain": [
              "<Figure size 1080x864 with 6 Axes>"
            ],
            "image/png": "[encoded data removed]"
          },
          "metadata": {}
        }
      ]
    },
    {
      "cell_type": "markdown",
      "source": [
        "## Task 12"
      ],
      "metadata": {
        "id": "WF9UkFA-Lr-g"
      }
    },
    {
      "cell_type": "code",
      "source": [
        "def f(rho):\n",
        "  R = rho * np.eye(1)\n",
        "  _, _, _, _, y, _ = lqr(x_0, Q, R, A, B, C, 68)\n",
        "  return np.linalg.norm(y-average_trajectories[0])"
      ],
      "metadata": {
        "id": "4adnHjfNQbjS"
      },
      "execution_count": null,
      "outputs": []
    },
    {
      "cell_type": "code",
      "source": [
        "from scipy import optimize\n",
        "\n",
        "sol = optimize.minimize(f, 0.001)\n",
        "sol.x"
      ],
      "metadata": {
        "colab": {
          "base_uri": "https://localhost:8080/"
        },
        "id": "ccQJV2EADISf",
        "outputId": "630a04a7-495b-4c11-d5c1-60cd2d9c11bd"
      },
      "execution_count": null,
      "outputs": [
        {
          "output_type": "execute_result",
          "data": {
            "text/plain": [
              "array([216.7285394])"
            ]
          },
          "metadata": {},
          "execution_count": 177
        }
      ]
    },
    {
      "cell_type": "code",
      "source": [
        "rho = sol.x\n",
        "R = rho * np.eye(1)\n",
        "_, _, _, _, y, _ = lqr(x_0, Q, R, A, B, C, 68)\n",
        "y = [float(y) for y in y]\n",
        "plt.plot(list(range(len(y))), y, 'b-', label='u')\n",
        "plt.plot(average_trajectories[0],'r-')"
      ],
      "metadata": {
        "colab": {
          "base_uri": "https://localhost:8080/",
          "height": 720
        },
        "id": "1fr4HKe3VkBX",
        "outputId": "faef5d25-1ebd-4baa-e3e9-5667b6618a8c"
      },
      "execution_count": null,
      "outputs": [
        {
          "output_type": "execute_result",
          "data": {
            "text/plain": [
              "[<matplotlib.lines.Line2D at 0x7f038b049950>]"
            ]
          },
          "metadata": {},
          "execution_count": 178
        },
        {
          "output_type": "display_data",
          "data": {
            "text/plain": [
              "<Figure size 1080x864 with 1 Axes>"
            ],
            "image/png": "[encoded data removed]"
          },
          "metadata": {}
        }
      ]
    }
  ]
}